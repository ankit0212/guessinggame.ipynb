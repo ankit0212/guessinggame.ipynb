{
 "cells": [
  {
   "cell_type": "code",
   "execution_count": null,
   "metadata": {},
   "outputs": [],
   "source": [
    "from random import randint as r\n",
    "r(1,100)\n",
    "x=r(1,100)\n",
    "print(x)\n",
    "while(x<=100):\n",
    "    n=int(input(\"guess the no.\"))\n",
    "    dif=x-n\n",
    "    if(dif<=10):\n",
    "        print(\"cold:pass\")\n",
    "        if(n==x):\n",
    "            print(\"guess is right\")\n",
    "            break\n",
    "    elif(dif<=20):\n",
    "        print(\"colder:thoda aur pass\")\n",
    "        if(n==x):\n",
    "            print(\"guess is right\")\n",
    "            break\n",
    "    elif(dif<=30):\n",
    "        print(\"warm:dur\")\n",
    "        if(n==x):\n",
    "            print(\"guess is right\")\n",
    "            break\n",
    "    elif(dif<=40):\n",
    "        print(\"warmer:bhut dur\")\n",
    "        if(n==x):\n",
    "            print(\"guess is right\")\n",
    "            break\n",
    "    else:\n",
    "        if(x==n):\n",
    "            print(\"guess is right\")\n",
    "            break\n",
    "            "
   ]
  }
 ],
 "metadata": {
  "kernelspec": {
   "display_name": "Python 3",
   "language": "python",
   "name": "python3"
  },
  "language_info": {
   "codemirror_mode": {
    "name": "ipython",
    "version": 3
   },
   "file_extension": ".py",
   "mimetype": "text/x-python",
   "name": "python",
   "nbconvert_exporter": "python",
   "pygments_lexer": "ipython3",
   "version": "3.7.3"
  }
 },
 "nbformat": 4,
 "nbformat_minor": 2
}
